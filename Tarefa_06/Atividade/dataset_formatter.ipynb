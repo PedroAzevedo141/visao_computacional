{
 "cells": [
  {
   "cell_type": "code",
   "execution_count": 1,
   "metadata": {},
   "outputs": [],
   "source": [
    "import os\n"
   ]
  },
  {
   "cell_type": "code",
   "execution_count": 4,
   "metadata": {},
   "outputs": [],
   "source": [
    "diretorio = \"Dataset/BID Sample Dataset/\"\n",
    "\n",
    "for raiz, subdirs, arquivos in os.walk(diretorio):\n",
    "    for nome_arquivo in arquivos:\n",
    "        if nome_arquivo.endswith(\"segmentation.jpg\") or nome_arquivo.endswith(\".txt\"):\n",
    "            caminho_completo = os.path.join(raiz, nome_arquivo)\n",
    "            os.remove(caminho_completo)"
   ]
  },
  {
   "cell_type": "code",
   "execution_count": null,
   "metadata": {},
   "outputs": [],
   "source": []
  }
 ],
 "metadata": {
  "kernelspec": {
   "display_name": "machine_learning",
   "language": "python",
   "name": "python3"
  },
  "language_info": {
   "codemirror_mode": {
    "name": "ipython",
    "version": 3
   },
   "file_extension": ".py",
   "mimetype": "text/x-python",
   "name": "python",
   "nbconvert_exporter": "python",
   "pygments_lexer": "ipython3",
   "version": "3.9.16"
  },
  "orig_nbformat": 4
 },
 "nbformat": 4,
 "nbformat_minor": 2
}
