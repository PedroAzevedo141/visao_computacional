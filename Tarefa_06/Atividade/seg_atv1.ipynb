{
 "cells": [
  {
   "attachments": {},
   "cell_type": "markdown",
   "metadata": {},
   "source": [
    "# Bibliotecas"
   ]
  },
  {
   "cell_type": "code",
   "execution_count": 1,
   "metadata": {},
   "outputs": [],
   "source": [
    "import os\n",
    "import cv2\n",
    "import numpy as np\n",
    "import matplotlib.pyplot as plt\n",
    "from skimage.io import imread, imsave, imshow\n",
    "from skimage.color import rgb2gray, gray2rgb, rgb2hsv\n",
    "from sklearn.cluster import KMeans\n",
    "import pathlib\n",
    "from skimage import restoration, filters\n",
    "from skimage import img_as_ubyte\n",
    "\n",
    "from sklearn.mixture import GaussianMixture\n",
    "from sklearn import metrics\n"
   ]
  },
  {
   "attachments": {},
   "cell_type": "markdown",
   "metadata": {},
   "source": [
    "## 1. Utilizando   a   base   de   imagens   “ultrassound.zip”   disponibilizada   no   SIGAA,   realize  a segmentação das imagens das seguintes formas:"
   ]
  },
  {
   "attachments": {},
   "cell_type": "markdown",
   "metadata": {},
   "source": [
    "### I. Aplique o algoritmo K-means utilizando os pixels como pesos; "
   ]
  },
  {
   "cell_type": "code",
   "execution_count": 88,
   "metadata": {},
   "outputs": [],
   "source": [
    "def kMeansTransform(path, path_img, n_clusters=8):\n",
    "    \n",
    "    img = imread(path_img)\n",
    "    \n",
    "    if len(img.shape) > 2:  img = rgb2gray(img)\n",
    "\n",
    "    pixel_values = img.reshape((-1, 1))\n",
    "    pixel_values = np.float32(pixel_values)\n",
    "    \n",
    "    kmeans = KMeans(n_clusters=n_clusters, n_init=\"auto\",\n",
    "                    init='k-means++').fit(pixel_values)\n",
    "    \n",
    "    Z_image = kmeans.predict(pixel_values)\n",
    "    Z_image = Z_image.reshape(img.shape)\n",
    "    \n",
    "    auxCenter = min(kmeans.cluster_centers_)\n",
    "    \n",
    "    Z_image = (Z_image == list(kmeans.cluster_centers_).index(auxCenter))\n",
    "    \n",
    "    _zImageNorm = cv2.normalize(src=Z_image*255, dst=None, alpha=0,\n",
    "                          beta=255, norm_type=cv2.NORM_MINMAX, dtype=cv2.CV_8U)\n",
    "    \n",
    "    name_img = str(path_img).split('/')[-1]\n",
    "        \n",
    "    os.makedirs(\"../seg_kmeans/{}/\".format(path), exist_ok=True)\n",
    "    imsave('../seg_kmeans/{}/{}'.format(path, name_img), _zImageNorm)\n"
   ]
  },
  {
   "cell_type": "code",
   "execution_count": null,
   "metadata": {},
   "outputs": [],
   "source": [
    "data_dir = pathlib.Path(\"../BID_fomatter/\")\n",
    "image_count = list(data_dir.glob('*/*.jpg'))\n",
    "\n",
    "for img in image_count:\n",
    "        if str(img).count(\"CNH_Frente\"):\n",
    "                kMeansTransform(\"CNH_Frente\",img,3)\n",
    "        elif str(img).count(\"CNH_Aberta\"):\n",
    "                kMeansTransform(\"CNH_Aberta\",img,3)\n",
    "        elif str(img).count(\"CNH_Verso\"):\n",
    "                kMeansTransform(\"CNH_Verso\",img,3)\n",
    "        elif str(img).count(\"CPF_Frente\"):\n",
    "                kMeansTransform(\"CPF_Frente\",img,3)\n",
    "        elif str(img).count(\"CPF_Verso\"):\n",
    "                kMeansTransform(\"CPF_Verso\",img,3)\n",
    "        elif str(img).count(\"RG_Aberto\"):\n",
    "                kMeansTransform(\"RG_Aberto\",img,3)\n",
    "        elif str(img).count(\"RG_Frente\"):\n",
    "                kMeansTransform(\"RG_Frente\",img,3)\n",
    "        elif str(img).count(\"RG_Verso\"):\n",
    "                kMeansTransform(\"RG_Verso\",img,3)\n",
    "        else:\n",
    "                pass"
   ]
  },
  {
   "cell_type": "code",
   "execution_count": 7,
   "metadata": {},
   "outputs": [],
   "source": [
    "def seg_otsu(path, path_img):\n",
    "    \n",
    "    img = imread(path_img)\n",
    "\n",
    "    if len(img.shape) > 2:\n",
    "        img = rgb2gray(img)\n",
    "\n",
    "    threshold = filters.threshold_otsu(img)\n",
    "    binarized_img = (img > threshold)*1\n",
    "    \n",
    "    binarized_img_norm = cv2.normalize(src=binarized_img, dst=None, alpha=0,\n",
    "                                beta=255, norm_type=cv2.NORM_MINMAX, dtype=cv2.CV_8U)\n",
    "    \n",
    "    name_img = str(path_img).split('/')[-1]\n",
    "\n",
    "    os.makedirs(\"../seg_otsu/{}/\".format(path), exist_ok=True)\n",
    "    imsave('../seg_otsu/{}/{}'.format(path,\n",
    "           name_img), binarized_img_norm)\n",
    "    "
   ]
  },
  {
   "cell_type": "code",
   "execution_count": 8,
   "metadata": {},
   "outputs": [],
   "source": [
    "def seg_niblack(path, path_img):\n",
    "\n",
    "    img = imread(path_img)\n",
    "\n",
    "    if len(img.shape) > 2:\n",
    "        img = rgb2gray(img)\n",
    "\n",
    "    threshold = filters.threshold_niblack(img)\n",
    "    binarized_img = (img > threshold)*1\n",
    "\n",
    "    binarized_img_norm = cv2.normalize(src=binarized_img, dst=None, alpha=0,\n",
    "                                       beta=255, norm_type=cv2.NORM_MINMAX, dtype=cv2.CV_8U)\n",
    "    \n",
    "    name_img = str(path_img).split('/')[-1]\n",
    "\n",
    "    os.makedirs(\"../seg_niblack/{}/\".format(path), exist_ok=True)\n",
    "    imsave('../seg_niblack/{}/{}'.format(path,\n",
    "           name_img), binarized_img_norm)\n"
   ]
  },
  {
   "cell_type": "code",
   "execution_count": 9,
   "metadata": {},
   "outputs": [],
   "source": [
    "data_dir = pathlib.Path(\"../BID_fomatter/\")\n",
    "image_count = list(data_dir.glob('*/*.jpg'))\n",
    "\n",
    "for img in image_count:\n",
    "    if str(img).count(\"CNH_Frente\"):\n",
    "        seg_otsu(\"CNH_Frente\", img)\n",
    "        seg_niblack(\"CNH_Frente\", img)\n",
    "    elif str(img).count(\"CNH_Aberta\"):\n",
    "        seg_otsu(\"CNH_Aberta\", img)\n",
    "        seg_niblack(\"CNH_Aberta\", img)\n",
    "    elif str(img).count(\"CNH_Verso\"):\n",
    "        seg_otsu(\"CNH_Verso\", img)\n",
    "        seg_niblack(\"CNH_Verso\", img)\n",
    "    elif str(img).count(\"CPF_Frente\"):\n",
    "        seg_otsu(\"CPF_Frente\", img)\n",
    "        seg_niblack(\"CPF_Frente\", img)\n",
    "    elif str(img).count(\"CPF_Verso\"):\n",
    "        seg_otsu(\"CPF_Verso\", img)\n",
    "        seg_niblack(\"CPF_Verso\", img)\n",
    "    elif str(img).count(\"RG_Aberto\"):\n",
    "        seg_otsu(\"RG_Aberto\", img)\n",
    "        seg_niblack(\"RG_Aberto\", img)\n",
    "    elif str(img).count(\"RG_Frente\"):\n",
    "        seg_otsu(\"RG_Frente\", img)\n",
    "        seg_niblack(\"RG_Frente\", img)\n",
    "    elif str(img).count(\"RG_Verso\"):\n",
    "        seg_otsu(\"RG_Verso\", img)\n",
    "        seg_niblack(\"RG_Verso\", img)\n",
    "    else:\n",
    "        pass\n"
   ]
  },
  {
   "cell_type": "code",
   "execution_count": null,
   "metadata": {},
   "outputs": [],
   "source": [
    "img = imread(path + path_img)\n",
    "\n",
    "if len(img.shape) > 2:\n",
    "    img = rgb2gray(img)\n",
    "\n",
    "pixel_values = img.reshape((-1, 1))\n",
    "pixel_values = np.float32(pixel_values)\n",
    "\n",
    "kmeans = GaussianMixture(\n",
    "    n_components=8, random_state=0, init_params='kmeans').fit(pixel_values)\n",
    "\n",
    "Z_image = kmeans.predict(pixel_values)\n",
    "Z_image = Z_image.reshape(img.shape)\n",
    "\n",
    "_zImageCopy = np.zeros_like(Z_image)\n",
    "for x in kmeans.means_:\n",
    "    if x >= 0.24 and x <= 0.40:\n",
    "        new_img = Z_image == list(kmeans.means_).index(x)\n",
    "        # new_img = filters.median(new_img)\n",
    "        _zImageCopy += new_img\n",
    "\n",
    "_zImageCopy = cv2.normalize(src=_zImageCopy, dst=None, alpha=0,\n",
    "                            beta=255, norm_type=cv2.NORM_MINMAX, dtype=cv2.CV_8U)\n"
   ]
  },
  {
   "attachments": {},
   "cell_type": "markdown",
   "metadata": {},
   "source": [
    "## K-Fold"
   ]
  },
  {
   "cell_type": "code",
   "execution_count": null,
   "metadata": {},
   "outputs": [],
   "source": []
  }
 ],
 "metadata": {
  "kernelspec": {
   "display_name": "Python 3",
   "language": "python",
   "name": "python3"
  },
  "language_info": {
   "codemirror_mode": {
    "name": "ipython",
    "version": 3
   },
   "file_extension": ".py",
   "mimetype": "text/x-python",
   "name": "python",
   "nbconvert_exporter": "python",
   "pygments_lexer": "ipython3",
   "version": "3.10.6"
  },
  "orig_nbformat": 4,
  "vscode": {
   "interpreter": {
    "hash": "e7370f93d1d0cde622a1f8e1c04877d8463912d04d973331ad4851f04de6915a"
   }
  }
 },
 "nbformat": 4,
 "nbformat_minor": 2
}
